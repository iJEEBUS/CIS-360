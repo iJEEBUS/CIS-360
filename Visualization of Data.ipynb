{
 "cells": [
  {
   "cell_type": "code",
   "execution_count": 250,
   "metadata": {},
   "outputs": [],
   "source": [
    "import numpy as np\n",
    "from matplotlib import pyplot as plt\n",
    "from matplotlib.dates import date2num\n",
    "import pandas as pd\n",
    "from datetime import datetime"
   ]
  },
  {
   "cell_type": "code",
   "execution_count": 251,
   "metadata": {},
   "outputs": [],
   "source": [
    "data = pd.read_csv(\"./operations.csv\", sep=\",\")\n",
    "data = data[pd.notnull(data['Country'])]"
   ]
  },
  {
   "cell_type": "code",
   "execution_count": 252,
   "metadata": {},
   "outputs": [],
   "source": [
    "dates = np.array(data['Mission Date'])"
   ]
  },
  {
   "cell_type": "code",
   "execution_count": 253,
   "metadata": {},
   "outputs": [],
   "source": [
    "country = np.array(data['Country'])"
   ]
  },
  {
   "cell_type": "code",
   "execution_count": 254,
   "metadata": {},
   "outputs": [],
   "source": [
    "usa_bombing_dates = [data['Mission Date'] for USA in data['Country'] if USA == 'USA']\n",
    "gb_bombing_dates = [data['Mission Date'] for GreatBritain in data['Country'] if GreatBritain == 'GREAT BRITAIN']\n",
    "nz_bombing_dates = [data['Mission Date'] for NewZealand in data['Country'] if NewZealand == 'NEW ZEALAND']\n",
    "australia_bombing_dates = [data['Mission Date'] for Australia in data['Country'] if Australia == 'AUSTRALIA']\n",
    "south_africa_bombing_dates = [data['Mission Date'] for SouthAfrica in data['Country'] if SouthAfrica == 'SOUTH AFRICA']"
   ]
  },
  {
   "cell_type": "code",
   "execution_count": 255,
   "metadata": {},
   "outputs": [],
   "source": [
    "def getNumBombingsPerMonth(dates):\n",
    "    bombings_per_month = {}\n",
    "    for date in dates[0]:\n",
    "        year_month = date.split(\"/\")[0] + \"/\" +date.split(\"/\")[-1]\n",
    "        if year_month not in bombings_per_month:\n",
    "            bombings_per_month[year_month] = 1\n",
    "        else:\n",
    "            bombings_per_month[year_month] += 1\n",
    "    \n",
    "    return bombings_per_month"
   ]
  },
  {
   "cell_type": "code",
   "execution_count": 261,
   "metadata": {},
   "outputs": [],
   "source": [
    "def splitAndOrderData(dictionary, **dt):\n",
    "    sorted_monthly = sorted(dictionary.items()) # sort by key, return a list of tuples\n",
    "    x, y = zip(*sorted_monthly)\n",
    "    \n",
    "    if dt:\n",
    "        # need to convert dates to datetime\n",
    "        # so we can plot multiple bars onto the graph\n",
    "        # at once\n",
    "        sorted_dates = np.array([datetime.strptime(x[0], '%m/%Y') for x in sorted_monthly])\n",
    "        sorted_quants = np.array([x[1] for x in sorted_monthly])\n",
    "    else:\n",
    "        sorted_dates = np.array([x[0] for x in sorted_monthly])\n",
    "        sorted_quants = np.array([x[1] for x in sorted_monthly])\n",
    "        \n",
    "    return date2num(sorted_dates), sorted_quants"
   ]
  },
  {
   "cell_type": "code",
   "execution_count": 267,
   "metadata": {},
   "outputs": [
    {
     "name": "stdout",
     "output_type": "stream",
     "text": [
      "633\n",
      "4868\n",
      "2323\n",
      "697\n",
      "1504\n",
      "701\n",
      "312\n",
      "3530\n",
      "5\n",
      "1059\n",
      "1355\n",
      "28\n",
      "848\n",
      "5452\n",
      "2026\n",
      "503\n",
      "9900\n",
      "1378\n",
      "16\n",
      "843\n",
      "361\n",
      "1431\n",
      "4538\n",
      "3110\n",
      "370\n",
      "917\n",
      "561\n",
      "3227\n",
      "7414\n",
      "15\n",
      "5\n",
      "1277\n",
      "48\n",
      "1468\n",
      "615\n",
      "2659\n",
      "5364\n",
      "52\n",
      "4923\n",
      "252\n",
      "881\n",
      "2043\n",
      "561\n",
      "6032\n",
      "1796\n",
      "595\n",
      "2095\n",
      "470\n",
      "1315\n",
      "4428\n",
      "1300\n",
      "442\n",
      "478\n",
      "1516\n",
      "660\n",
      "5072\n",
      "3\n",
      "1159\n",
      "846\n",
      "472\n",
      "2129\n",
      "2374\n",
      "3783\n",
      "478\n",
      "446\n",
      "552\n",
      "1392\n",
      "447\n",
      "1000\n",
      "1478\n",
      "4296\n",
      "===================\n",
      "\n",
      "4868\n",
      "2323\n",
      "697\n",
      "1504\n",
      "701\n",
      "312\n",
      "3530\n",
      "5\n",
      "1059\n",
      "1355\n",
      "28\n",
      "848\n",
      "5452\n",
      "2026\n",
      "503\n",
      "9900\n",
      "1378\n",
      "16\n",
      "843\n",
      "361\n",
      "1431\n",
      "4538\n",
      "3110\n",
      "370\n",
      "917\n",
      "561\n",
      "3227\n",
      "7414\n",
      "15\n",
      "5\n",
      "1277\n",
      "48\n",
      "1468\n",
      "615\n",
      "2659\n",
      "5364\n",
      "52\n",
      "4923\n",
      "252\n",
      "881\n",
      "2043\n",
      "561\n",
      "6032\n",
      "1796\n",
      "595\n",
      "2095\n",
      "470\n",
      "1315\n",
      "4428\n",
      "1300\n",
      "442\n",
      "478\n",
      "1516\n",
      "660\n",
      "5072\n",
      "3\n",
      "1159\n",
      "846\n",
      "472\n",
      "2129\n",
      "2374\n",
      "3783\n",
      "478\n",
      "446\n",
      "552\n",
      "1392\n",
      "447\n",
      "1000\n",
      "1478\n",
      "4296\n"
     ]
    }
   ],
   "source": [
    "print(len(nz_bombing_dates))\n",
    "us_monthly = getNumBombingsPerMonth(usa_bombing_dates)\n",
    "gb_monthly = getNumBombingsPerMonth(gb_bombing_dates)\n",
    "nz_monthly = getNumBombingsPerMonth(nz_bombing_dates)\n",
    "australia_monthly = getNumBombingsPerMonth(australia_bombing_dates)\n",
    "south_africa_monthly = getNumBombingsPerMonth(south_africa_bombing_dates)\n",
    "\n",
    "for x in us_monthly:\n",
    "    print us_monthly[x]\n",
    "print '===================\\n'\n",
    "for x in gb_monthly:\n",
    "    print gb_monthly[x]\n"
   ]
  },
  {
   "cell_type": "code",
   "execution_count": 263,
   "metadata": {},
   "outputs": [
    {
     "name": "stdout",
     "output_type": "stream",
     "text": [
      "[ 478  446  552 2374 3783    5 1478 1000  447 1392 4296    5 1300  442\n",
      "  478 1516 4428   16  881  252  561 2043 4923   52  697  312  701 2323\n",
      " 4868  561  370  917 3227 7414  846  660 1355 3530 9900   28  843  361\n",
      " 1431 4538 3110   48 1277  615 1468 5364 2659  470 1315  595 2095 6032\n",
      " 1796 1378 1504  503 2026 5452  848   15 1159 1059  472 2129 5072    3]\n",
      "[ 478  446  552 2374 3783    5 1478 1000  447 1392 4296    5 1300  442\n",
      "  478 1516 4428   16  881  252  561 2043 4923   52  697  312  701 2323\n",
      " 4868  561  370  917 3227 7414  846  660 1355 3530 9900   28  843  361\n",
      " 1431 4538 3110   48 1277  615 1468 5364 2659  470 1315  595 2095 6032\n",
      " 1796 1378 1504  503 2026 5452  848   15 1159 1059  472 2129 5072    3]\n"
     ]
    },
    {
     "data": {
      "image/png": "[encoded data removed]",
      "text/plain": [
       "<matplotlib.figure.Figure at 0x11214f450>"
      ]
     },
     "metadata": {},
     "output_type": "display_data"
    }
   ],
   "source": [
    "us_dates, us_quants = splitAndOrderData(us_monthly, dt=True)\n",
    "gb_dates, gb_quants = splitAndOrderData(gb_monthly, dt=True)\n",
    "nz_dates, nz_quants = splitAndOrderData(nz_monthly, dt=True)\n",
    "aus_dates, aus_quants = splitAndOrderData(australia_monthly, dt=True)\n",
    "sa_dates, sa_quants = splitAndOrderData(south_africa_monthly, dt=True)\n",
    "\n",
    "print us_quants\n",
    "print gb_quants\n",
    "\n",
    "ax = plt.subplot(111)\n",
    "w = 10\n",
    "\n",
    "ax.scatter(us_dates - w, us_quants, color='b', alpha=0.5)\n",
    "ax.scatter(gb_dates, gb_quants, color='r', alpha=0.5)\n",
    "# ax.bar(us_dates, us_quants, width=w, color='black')\n",
    "ax.xaxis_date()\n",
    "# ax.autoscale(tight=True)\n",
    "# plt.xticks(rotation=90)\n",
    "# plt.bar(sorted_dates, sorted_quants)\n",
    "# plt.plot(sorted_dates, sorted_quants)\n",
    "plt.show()"
   ]
  },
  {
   "cell_type": "code",
   "execution_count": 259,
   "metadata": {},
   "outputs": [
    {
     "name": "stdout",
     "output_type": "stream",
     "text": [
      "[708571. 708936. 709301. 709666. 710032. 708113. 708479. 708844. 709209.\n",
      " 709574. 709940. 708144. 708510. 708875. 709240. 709605. 709971. 708174.\n",
      " 708540. 708905. 709270. 709635. 710001. 710366. 708602. 708967. 709332.\n",
      " 709697. 710063. 708630. 708995. 709360. 709726. 710091. 708661. 709026.\n",
      " 709391. 709757. 710122. 708326. 708691. 709056. 709421. 709787. 710152.\n",
      " 708357. 708722. 709087. 709452. 709818. 710183. 708387. 708752. 709117.\n",
      " 709482. 709848. 710213. 708418. 708783. 709148. 709513. 709879. 710244.\n",
      " 708083. 708449. 708814. 709179. 709544. 709910. 710275.]\n"
     ]
    }
   ],
   "source": [
    "print us_dates\n"
   ]
  },
  {
   "cell_type": "code",
   "execution_count": 260,
   "metadata": {},
   "outputs": [],
   "source": [
    "def splitBombingData(data):\n",
    "    # dicionary to hold dates and \n",
    "    # amount of bombs dropped that day\n",
    "    bombing_quantities = {}\n",
    "    \n",
    "    dates_as_strings = [date for date in data[100]]\n",
    "\n",
    "\n",
    "    # count how many times a date occurs\n",
    "    # increment quantity each iteration\n",
    "    for date in dates_as_strings:\n",
    "        if date not in bombing_quantities:\n",
    "            bombing_quantities[date] = 1\n",
    "        else:\n",
    "            bombing_quantities[date] += 1\n",
    "    \n",
    "    # all of the dates that bombings occurred\n",
    "    bombing_days = [[date, bombing_quantities[date]] for date in bombing_quantities]\n",
    "    \n",
    "    # split the quantity\n",
    "    dates, quants = [date[0] for date in bombing_days], [quantities[1] for quantities in bombing_days]\n",
    "\n",
    "    dates, quants = np.array(dates), np.array(quants) \n",
    "    stack = np.hstack((dates, quants))\n",
    "    return stack"
   ]
  },
  {
   "cell_type": "code",
   "execution_count": null,
   "metadata": {},
   "outputs": [],
   "source": []
  },
  {
   "cell_type": "code",
   "execution_count": null,
   "metadata": {},
   "outputs": [],
   "source": []
  },
  {
   "cell_type": "code",
   "execution_count": null,
   "metadata": {},
   "outputs": [],
   "source": []
  }
 ],
 "metadata": {
  "kernelspec": {
   "display_name": "Python 2",
   "language": "python",
   "name": "python2"
  },
  "language_info": {
   "codemirror_mode": {
    "name": "ipython",
    "version": 2
   },
   "file_extension": ".py",
   "mimetype": "text/x-python",
   "name": "python",
   "nbconvert_exporter": "python",
   "pygments_lexer": "ipython2",
   "version": "2.7.14"
  }
 },
 "nbformat": 4,
 "nbformat_minor": 2
}
