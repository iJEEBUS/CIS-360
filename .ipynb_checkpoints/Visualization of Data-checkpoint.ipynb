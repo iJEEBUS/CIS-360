{
 "cells": [
  {
   "cell_type": "code",
   "execution_count": 164,
   "metadata": {},
   "outputs": [],
   "source": [
    "import numpy as np\n",
    "from matplotlib import pyplot as plt\n",
    "from matplotlib.dates import date2num\n",
    "import pandas as pd\n",
    "from datetime import datetime"
   ]
  },
  {
   "cell_type": "code",
   "execution_count": 165,
   "metadata": {},
   "outputs": [],
   "source": [
    "data = pd.read_csv(\"./operations.csv\", sep=\",\")\n",
    "data = data[pd.notnull(data['Country'])]"
   ]
  },
  {
   "cell_type": "code",
   "execution_count": 166,
   "metadata": {},
   "outputs": [],
   "source": [
    "dates = np.array(data['Mission Date'])"
   ]
  },
  {
   "cell_type": "code",
   "execution_count": 167,
   "metadata": {},
   "outputs": [],
   "source": [
    "country = np.array(data['Country'])"
   ]
  },
  {
   "cell_type": "code",
   "execution_count": 168,
   "metadata": {},
   "outputs": [],
   "source": [
    "usa_bombing_dates = [data['Mission Date'] for USA in data['Country'] if USA == 'USA']\n",
    "gb_bombing_dates = [data['Mission Date'] for GreatBritain in data['Country'] if GreatBritain == 'GREAT BRITAIN']\n",
    "nz_bombing_dates = [data['Mission Date'] for NewZealand in data['Country'] if NewZealand == 'NEW ZEALAND']\n",
    "australia_bombing_dates = [data['Mission Date'] for Australia in data['Country'] if Australia == 'AUSTRALIA']\n",
    "south_africa_bombing_dates = [data['Mission Date'] for SouthAfrica in data['Country'] if SouthAfrica == 'SOUTH AFRICA']"
   ]
  },
  {
   "cell_type": "code",
   "execution_count": 169,
   "metadata": {},
   "outputs": [],
   "source": [
    "def getNumBombingsPerMonth(dates):\n",
    "    bombings_per_month = {}\n",
    "    for date in dates[0]:\n",
    "        year_month = date.split(\"/\")[0] + \"/\" +date.split(\"/\")[-1]\n",
    "        if year_month not in bombings_per_month:\n",
    "            bombings_per_month[year_month] = 1\n",
    "        else:\n",
    "            bombings_per_month[year_month] += 1\n",
    "    \n",
    "    return bombings_per_month"
   ]
  },
  {
   "cell_type": "code",
   "execution_count": 188,
   "metadata": {},
   "outputs": [],
   "source": [
    "def splitAndOrderData(data, **dt):\n",
    "    sorted_monthly = sorted(data.items()) # sort by key, return a list of tuples\n",
    "    x, y = zip(*sorted_monthly)\n",
    "    \n",
    "    if dt:\n",
    "        # need to convert dates to datetime\n",
    "        # so we can plot multiple bars onto the graph\n",
    "        # at once\n",
    "        sorted_dates = np.array([datetime.strptime(x[0], '%m/%Y') for x in sorted_monthly])\n",
    "        sorted_quants = np.array([x[1] for x in sorted_monthly])\n",
    "    else:\n",
    "        sorted_dates = np.array([x[0] for x in sorted_monthly])\n",
    "        sorted_quants = np.array([x[1] for x in sorted_monthly])\n",
    "        \n",
    "    return sorted_dates, sorted_quants"
   ]
  },
  {
   "cell_type": "code",
   "execution_count": 189,
   "metadata": {},
   "outputs": [],
   "source": [
    "us_monthly = getNumBombingsPerMonth(usa_bombing_dates)\n",
    "gb_monthly = getNumBombingsPerMonth(gb_bombing_dates)\n",
    "nz_monthly = getNumBombingsPerMonth(nz_bombing_dates)\n",
    "australia_monthly = getNumBombingsPerMonth(australia_bombing_dates)\n",
    "south_africa_monthly = getNumBombingsPerMonth(south_africa_bombing_dates)"
   ]
  },
  {
   "cell_type": "code",
   "execution_count": 196,
   "metadata": {},
   "outputs": [
    {
     "ename": "NameError",
     "evalue": "name 'date2num' is not defined",
     "output_type": "error",
     "traceback": [
      "\u001b[0;31m---------------------------------------------------------------------------\u001b[0m",
      "\u001b[0;31mNameError\u001b[0m                                 Traceback (most recent call last)",
      "\u001b[0;32m<ipython-input-196-feaefe03592a>\u001b[0m in \u001b[0;36m<module>\u001b[0;34m()\u001b[0m\n\u001b[1;32m      5\u001b[0m \u001b[0msa_dates\u001b[0m\u001b[0;34m,\u001b[0m \u001b[0msa_quants\u001b[0m \u001b[0;34m=\u001b[0m \u001b[0msplitAndOrderData\u001b[0m\u001b[0;34m(\u001b[0m\u001b[0msouth_africa_monthly\u001b[0m\u001b[0;34m,\u001b[0m \u001b[0mdt\u001b[0m\u001b[0;34m=\u001b[0m\u001b[0mTrue\u001b[0m\u001b[0;34m)\u001b[0m\u001b[0;34m\u001b[0m\u001b[0m\n\u001b[1;32m      6\u001b[0m \u001b[0;34m\u001b[0m\u001b[0m\n\u001b[0;32m----> 7\u001b[0;31m \u001b[0mus_quants\u001b[0m \u001b[0;34m=\u001b[0m \u001b[0mdate2num\u001b[0m\u001b[0;34m(\u001b[0m\u001b[0mus_quants\u001b[0m\u001b[0;34m)\u001b[0m\u001b[0;34m\u001b[0m\u001b[0m\n\u001b[0m\u001b[1;32m      8\u001b[0m \u001b[0;34m\u001b[0m\u001b[0m\n\u001b[1;32m      9\u001b[0m \u001b[0max\u001b[0m \u001b[0;34m=\u001b[0m \u001b[0mplt\u001b[0m\u001b[0;34m.\u001b[0m\u001b[0msubplot\u001b[0m\u001b[0;34m(\u001b[0m\u001b[0;36m111\u001b[0m\u001b[0;34m)\u001b[0m\u001b[0;34m\u001b[0m\u001b[0m\n",
      "\u001b[0;31mNameError\u001b[0m: name 'date2num' is not defined"
     ]
    }
   ],
   "source": [
    "us_dates, us_quants = splitAndOrderData(us_monthly, dt=True)\n",
    "gb_dates, gb_quants = splitAndOrderData(gb_monthly, dt=True)\n",
    "nz_dates, nz_quants = splitAndOrderData(nz_monthly, dt=True)\n",
    "aus_dates, aus_quants = splitAndOrderData(australia_monthly, dt=True)\n",
    "sa_dates, sa_quants = splitAndOrderData(south_africa_monthly, dt=True)\n",
    "\n",
    "us_quants = date2num(us_quants)\n",
    "\n",
    "ax = plt.subplot(111)\n",
    "w = 0.3\n",
    "ax.bar(us_dates - w, us_quants, width=w, color='b',align='center')\n",
    "ax.xaxis_date()\n",
    "ax.autoscale(tight=True)\n",
    "# plt.xticks(rotation=90)\n",
    "# plt.bar(sorted_dates, sorted_quants)\n",
    "# plt.plot(sorted_dates, sorted_quants)\n",
    "plt.show()"
   ]
  },
  {
   "cell_type": "code",
   "execution_count": 193,
   "metadata": {},
   "outputs": [
    {
     "name": "stdout",
     "output_type": "stream",
     "text": [
      "['1/1941' '1/1942' '1/1943' '1/1944' '1/1945' '10/1939' '10/1940'\n",
      " '10/1941' '10/1942' '10/1943' '10/1944' '11/1939' '11/1940' '11/1941'\n",
      " '11/1942' '11/1943' '11/1944' '12/1939' '12/1940' '12/1941' '12/1942'\n",
      " '12/1943' '12/1944' '12/1945' '2/1941' '2/1942' '2/1943' '2/1944'\n",
      " '2/1945' '3/1941' '3/1942' '3/1943' '3/1944' '3/1945' '4/1941' '4/1942'\n",
      " '4/1943' '4/1944' '4/1945' '5/1940' '5/1941' '5/1942' '5/1943' '5/1944'\n",
      " '5/1945' '6/1940' '6/1941' '6/1942' '6/1943' '6/1944' '6/1945' '7/1940'\n",
      " '7/1941' '7/1942' '7/1943' '7/1944' '7/1945' '8/1940' '8/1941' '8/1942'\n",
      " '8/1943' '8/1944' '8/1945' '9/1939' '9/1940' '9/1941' '9/1942' '9/1943'\n",
      " '9/1944' '9/1945']\n"
     ]
    }
   ],
   "source": [
    "print us_dates\n"
   ]
  },
  {
   "cell_type": "code",
   "execution_count": 36,
   "metadata": {},
   "outputs": [],
   "source": [
    "def splitBombingData(data):\n",
    "    # dicionary to hold dates and \n",
    "    # amount of bombs dropped that day\n",
    "    bombing_quantities = {}\n",
    "    \n",
    "    dates_as_strings = [date for date in data[100]]\n",
    "\n",
    "\n",
    "    # count how many times a date occurs\n",
    "    # increment quantity each iteration\n",
    "    for date in dates_as_strings:\n",
    "        if date not in bombing_quantities:\n",
    "            bombing_quantities[date] = 1\n",
    "        else:\n",
    "            bombing_quantities[date] += 1\n",
    "    \n",
    "    # all of the dates that bombings occurred\n",
    "    bombing_days = [[date, bombing_quantities[date]] for date in bombing_quantities]\n",
    "    \n",
    "    # split the quantity\n",
    "    dates, quants = [date[0] for date in bombing_days], [quantities[1] for quantities in bombing_days]\n",
    "\n",
    "    dates, quants = np.array(dates), np.array(quants) \n",
    "    stack = np.hstack((dates, quants))\n",
    "    return stack"
   ]
  },
  {
   "cell_type": "code",
   "execution_count": null,
   "metadata": {},
   "outputs": [],
   "source": []
  },
  {
   "cell_type": "code",
   "execution_count": null,
   "metadata": {},
   "outputs": [],
   "source": []
  },
  {
   "cell_type": "code",
   "execution_count": null,
   "metadata": {},
   "outputs": [],
   "source": []
  }
 ],
 "metadata": {
  "kernelspec": {
   "display_name": "Python 2",
   "language": "python",
   "name": "python2"
  },
  "language_info": {
   "codemirror_mode": {
    "name": "ipython",
    "version": 2
   },
   "file_extension": ".py",
   "mimetype": "text/x-python",
   "name": "python",
   "nbconvert_exporter": "python",
   "pygments_lexer": "ipython2",
   "version": "2.7.14"
  }
 },
 "nbformat": 4,
 "nbformat_minor": 2
}
